{
 "cells": [
  {
   "cell_type": "markdown",
   "id": "44705933-b114-43ae-b20d-3f8f5e40d292",
   "metadata": {},
   "source": [
    "# 9. Replace a string charecter by another charecter by taking your own example \"aditya\""
   ]
  },
  {
   "cell_type": "code",
   "execution_count": null,
   "id": "90ce6418-32fc-4f9d-bc44-adc40ecddac0",
   "metadata": {},
   "outputs": [],
   "source": []
  },
  {
   "cell_type": "code",
   "execution_count": null,
   "id": "2219d487-afe8-41ce-b196-5cbae4cdbd3f",
   "metadata": {},
   "outputs": [],
   "source": []
  },
  {
   "cell_type": "code",
   "execution_count": 5,
   "id": "331ec9f7-1bd7-4c49-86f2-6a6cb2a8b398",
   "metadata": {},
   "outputs": [],
   "source": [
    "name = \"aditya\""
   ]
  },
  {
   "cell_type": "code",
   "execution_count": 10,
   "id": "769a69fd-9e9f-433f-9e95-6a65b7fa92f4",
   "metadata": {},
   "outputs": [
    {
     "ename": "SyntaxError",
     "evalue": "cannot assign to literal here. Maybe you meant '==' instead of '='? (2895814348.py, line 1)",
     "output_type": "error",
     "traceback": [
      "\u001b[0;36m  Cell \u001b[0;32mIn[10], line 1\u001b[0;36m\u001b[0m\n\u001b[0;31m    50 = \"aditya\"\u001b[0m\n\u001b[0m    ^\u001b[0m\n\u001b[0;31mSyntaxError\u001b[0m\u001b[0;31m:\u001b[0m cannot assign to literal here. Maybe you meant '==' instead of '='?\n"
     ]
    }
   ],
   "source": [
    "50 = \"aditya\""
   ]
  },
  {
   "cell_type": "code",
   "execution_count": 11,
   "id": "88113fb5-e07e-43c1-a0e5-1c1d974a396d",
   "metadata": {},
   "outputs": [],
   "source": [
    "Roll_no_50 = \"aditya\""
   ]
  },
  {
   "cell_type": "code",
   "execution_count": 12,
   "id": "a4842cbd-367e-4b7e-90e2-2813a14d0763",
   "metadata": {},
   "outputs": [
    {
     "data": {
      "text/plain": [
       "'aditya'"
      ]
     },
     "execution_count": 12,
     "metadata": {},
     "output_type": "execute_result"
    }
   ],
   "source": [
    "Roll_no_50"
   ]
  },
  {
   "cell_type": "code",
   "execution_count": 13,
   "id": "b044fec6-2325-4271-86f0-f7ec94ec2906",
   "metadata": {},
   "outputs": [
    {
     "ename": "SyntaxError",
     "evalue": "cannot assign to True (293492062.py, line 1)",
     "output_type": "error",
     "traceback": [
      "\u001b[0;36m  Cell \u001b[0;32mIn[13], line 1\u001b[0;36m\u001b[0m\n\u001b[0;31m    True = \"aditya\"\u001b[0m\n\u001b[0m    ^\u001b[0m\n\u001b[0;31mSyntaxError\u001b[0m\u001b[0;31m:\u001b[0m cannot assign to True\n"
     ]
    }
   ],
   "source": [
    "True = \"aditya\""
   ]
  },
  {
   "cell_type": "code",
   "execution_count": 14,
   "id": "5a66d925-1dc6-448b-90aa-171bacf8120c",
   "metadata": {},
   "outputs": [
    {
     "ename": "SyntaxError",
     "evalue": "invalid syntax (2201624081.py, line 1)",
     "output_type": "error",
     "traceback": [
      "\u001b[0;36m  Cell \u001b[0;32mIn[14], line 1\u001b[0;36m\u001b[0m\n\u001b[0;31m    na me = \"aditya\"\u001b[0m\n\u001b[0m       ^\u001b[0m\n\u001b[0;31mSyntaxError\u001b[0m\u001b[0;31m:\u001b[0m invalid syntax\n"
     ]
    }
   ],
   "source": [
    "na me = \"aditya\""
   ]
  },
  {
   "cell_type": "code",
   "execution_count": 15,
   "id": "da5eb32b-1b39-42d4-a564-1028ca289133",
   "metadata": {},
   "outputs": [
    {
     "ename": "SyntaxError",
     "evalue": "invalid decimal literal (1123178262.py, line 1)",
     "output_type": "error",
     "traceback": [
      "\u001b[0;36m  Cell \u001b[0;32mIn[15], line 1\u001b[0;36m\u001b[0m\n\u001b[0;31m    23name = \"aditya\"\u001b[0m\n\u001b[0m     ^\u001b[0m\n\u001b[0;31mSyntaxError\u001b[0m\u001b[0;31m:\u001b[0m invalid decimal literal\n"
     ]
    }
   ],
   "source": [
    "23name = \"aditya\""
   ]
  },
  {
   "cell_type": "code",
   "execution_count": 17,
   "id": "375e1ac6-7f9e-4004-9996-88ecca065a36",
   "metadata": {},
   "outputs": [],
   "source": [
    "age = 30"
   ]
  },
  {
   "cell_type": "code",
   "execution_count": 18,
   "id": "a8c07611-fd28-4deb-9a09-5345a2794c25",
   "metadata": {},
   "outputs": [],
   "source": [
    "Age = 35"
   ]
  },
  {
   "cell_type": "code",
   "execution_count": 19,
   "id": "a4688919-64fc-469c-925a-12be648c3d3f",
   "metadata": {},
   "outputs": [
    {
     "data": {
      "text/plain": [
       "30"
      ]
     },
     "execution_count": 19,
     "metadata": {},
     "output_type": "execute_result"
    }
   ],
   "source": [
    "age"
   ]
  },
  {
   "cell_type": "code",
   "execution_count": 20,
   "id": "8c313fa2-0af1-4947-a711-986e9be06114",
   "metadata": {},
   "outputs": [
    {
     "data": {
      "text/plain": [
       "35"
      ]
     },
     "execution_count": 20,
     "metadata": {},
     "output_type": "execute_result"
    }
   ],
   "source": [
    "Age"
   ]
  },
  {
   "cell_type": "code",
   "execution_count": 16,
   "id": "14493b00-fa01-4c85-9336-b784eca0a73c",
   "metadata": {},
   "outputs": [],
   "source": [
    "name23 = \"aditya\""
   ]
  },
  {
   "cell_type": "code",
   "execution_count": 28,
   "id": "2466f5c3-2385-4304-9dd7-b124fc7b682e",
   "metadata": {},
   "outputs": [],
   "source": [
    "a, b, c, = 23,67,45"
   ]
  },
  {
   "cell_type": "code",
   "execution_count": 22,
   "id": "eaf90462-57af-4994-aea1-69ab1c7f016b",
   "metadata": {},
   "outputs": [
    {
     "data": {
      "text/plain": [
       "23"
      ]
     },
     "execution_count": 22,
     "metadata": {},
     "output_type": "execute_result"
    }
   ],
   "source": [
    "a"
   ]
  },
  {
   "cell_type": "code",
   "execution_count": 23,
   "id": "313b9373-5298-48a6-9a3c-ec7d6c5ca46e",
   "metadata": {},
   "outputs": [
    {
     "data": {
      "text/plain": [
       "67"
      ]
     },
     "execution_count": 23,
     "metadata": {},
     "output_type": "execute_result"
    }
   ],
   "source": [
    "b"
   ]
  },
  {
   "cell_type": "code",
   "execution_count": 29,
   "id": "d9baa388-0431-40ef-9906-f3bd11a19408",
   "metadata": {},
   "outputs": [
    {
     "data": {
      "text/plain": [
       "45"
      ]
     },
     "execution_count": 29,
     "metadata": {},
     "output_type": "execute_result"
    }
   ],
   "source": [
    "c"
   ]
  },
  {
   "cell_type": "code",
   "execution_count": 25,
   "id": "3255b97c-585b-4fb9-9d76-433b19371f68",
   "metadata": {},
   "outputs": [
    {
     "name": "stdout",
     "output_type": "stream",
     "text": [
      "aditya\n"
     ]
    }
   ],
   "source": [
    "# libary function or in-built function\n",
    "print(\"aditya\")"
   ]
  },
  {
   "cell_type": "code",
   "execution_count": 39,
   "id": "6077a68d-2a39-4713-93c6-dc9012494561",
   "metadata": {},
   "outputs": [],
   "source": [
    " name = \"aditya\""
   ]
  },
  {
   "cell_type": "code",
   "execution_count": 40,
   "id": "55414359-b66f-4622-8ed2-38da7c32b7b3",
   "metadata": {},
   "outputs": [
    {
     "data": {
      "text/plain": [
       "str"
      ]
     },
     "execution_count": 40,
     "metadata": {},
     "output_type": "execute_result"
    }
   ],
   "source": [
    "type(name)"
   ]
  },
  {
   "cell_type": "code",
   "execution_count": 41,
   "id": "7236227b-f6b2-4587-8fab-21668e4bf1f3",
   "metadata": {},
   "outputs": [],
   "source": [
    "name1 = \"aditya\""
   ]
  },
  {
   "cell_type": "code",
   "execution_count": 43,
   "id": "fbf02d1a-a945-4bbe-b85f-acaa59050ed2",
   "metadata": {},
   "outputs": [
    {
     "data": {
      "text/plain": [
       "str"
      ]
     },
     "execution_count": 43,
     "metadata": {},
     "output_type": "execute_result"
    }
   ],
   "source": [
    "type(name1)"
   ]
  },
  {
   "cell_type": "code",
   "execution_count": 44,
   "id": "0b23df6b-8f56-4a0f-ab48-e7bd376ba808",
   "metadata": {},
   "outputs": [],
   "source": [
    "name2 = \"\"\"aditya\"\"\""
   ]
  },
  {
   "cell_type": "code",
   "execution_count": 47,
   "id": "c46bdfb7-e215-446c-bc8a-2d107fd5e130",
   "metadata": {},
   "outputs": [
    {
     "data": {
      "text/plain": [
       "str"
      ]
     },
     "execution_count": 47,
     "metadata": {},
     "output_type": "execute_result"
    }
   ],
   "source": [
    "type(name2)"
   ]
  },
  {
   "cell_type": "code",
   "execution_count": 48,
   "id": "be1e56da-bdcf-4fcf-98bc-81563d0ce065",
   "metadata": {},
   "outputs": [],
   "source": [
    "name3 = \"\"\"aditya\"\"\""
   ]
  },
  {
   "cell_type": "code",
   "execution_count": 49,
   "id": "f2ae17bd-218c-4154-86e1-8939b56553f1",
   "metadata": {},
   "outputs": [],
   "source": [
    "# single quote in string is allowed.\n",
    "# double quote in string is allowed.\n"
   ]
  },
  {
   "cell_type": "code",
   "execution_count": 50,
   "id": "ab1304a1-fd98-4847-87c2-f1c29afb15f2",
   "metadata": {},
   "outputs": [
    {
     "name": "stdout",
     "output_type": "stream",
     "text": [
      "aditya\n",
      "samarth\n"
     ]
    }
   ],
   "source": [
    "print(\"aditya\")\n",
    "print(\"samarth\")"
   ]
  },
  {
   "cell_type": "code",
   "execution_count": 52,
   "id": "89ca8e43-5fc7-4355-b49d-b89fff59fafa",
   "metadata": {},
   "outputs": [
    {
     "name": "stdout",
     "output_type": "stream",
     "text": [
      "adaitya\n",
      "samarth\n"
     ]
    }
   ],
   "source": [
    "print(\"adaitya\", end='\\')\n",
    "print(\"samarth\", end='\\n')"
   ]
  },
  {
   "cell_type": "code",
   "execution_count": null,
   "id": "a0889462-aa64-42cb-a6f4-da33b7436464",
   "metadata": {},
   "outputs": [],
   "source": []
  }
 ],
 "metadata": {
  "kernelspec": {
   "display_name": "Python 3 (ipykernel)",
   "language": "python",
   "name": "python3"
  },
  "language_info": {
   "codemirror_mode": {
    "name": "ipython",
    "version": 3
   },
   "file_extension": ".py",
   "mimetype": "text/x-python",
   "name": "python",
   "nbconvert_exporter": "python",
   "pygments_lexer": "ipython3",
   "version": "3.12.4"
  }
 },
 "nbformat": 4,
 "nbformat_minor": 5
}
